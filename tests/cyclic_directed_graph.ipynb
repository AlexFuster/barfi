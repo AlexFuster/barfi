{
 "cells": [
  {
   "cell_type": "markdown",
   "id": "869232ce-0491-407a-9574-22aeba2e73c1",
   "metadata": {},
   "source": [
    "https://stackoverflow.com/questions/3603274/traversal-of-cyclic-directed-graph"
   ]
  },
  {
   "cell_type": "code",
   "execution_count": null,
   "id": "988fba74-6a8b-4645-8ce9-377a87f6c1d1",
   "metadata": {},
   "outputs": [],
   "source": []
  }
 ],
 "metadata": {
  "kernelspec": {
   "display_name": "Python 3 (ipykernel)",
   "language": "python",
   "name": "python3"
  },
  "language_info": {
   "codemirror_mode": {
    "name": "ipython",
    "version": 3
   },
   "file_extension": ".py",
   "mimetype": "text/x-python",
   "name": "python",
   "nbconvert_exporter": "python",
   "pygments_lexer": "ipython3",
   "version": "3.9.7"
  }
 },
 "nbformat": 4,
 "nbformat_minor": 5
}
