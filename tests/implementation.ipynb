{
 "cells": [
  {
   "cell_type": "code",
   "execution_count": 1,
   "id": "2f11a0b7-d7cd-4769-ab6f-1afb99d1783f",
   "metadata": {},
   "outputs": [],
   "source": [
    "import networkx as nx\n",
    "from matplotlib import pyplot as plt\n",
    "import sys\n",
    "sys.path.append('../')"
   ]
  },
  {
   "cell_type": "code",
   "execution_count": 2,
   "id": "9e1f647b-1be2-4b17-b21c-2f7448b5501f",
   "metadata": {},
   "outputs": [],
   "source": [
    "import st_barfi"
   ]
  },
  {
   "cell_type": "code",
   "execution_count": 18,
   "id": "86a0627a-170c-4e60-98ed-882222e232ae",
   "metadata": {},
   "outputs": [
    {
     "data": {
      "text/plain": [
       "<st_barfi.block_builder.Block object at 0x129e84280>"
      ]
     },
     "execution_count": 18,
     "metadata": {},
     "output_type": "execute_result"
    }
   ],
   "source": [
    "stb.block_builder.Block()"
   ]
  },
  {
   "cell_type": "code",
   "execution_count": null,
   "id": "cc36dba3-e3ef-4c35-b633-2c444d9e02c8",
   "metadata": {},
   "outputs": [],
   "source": [
    "editor_state = {'nodes': [{'type': 'Feed', 'id': 'node_16421654445600', 'name': 'Feed', 'options': [], 'state': {}, 'interfaces': [['Output 1', {'id': 'ni_16421654445601', 'value': None}]], 'position': {'x': 53.10270771798835, 'y': 103.53598351788409}, 'width': 200, 'twoColumn': False, 'customClasses': ''}, {'type': 'Feed', 'id': 'node_16421655709876', 'name': 'Feed', 'options': [], 'state': {}, 'interfaces': [['Output 1', {'id': 'ni_16421655709877', 'value': None}]], 'position': {'x': -395.9608670807274, 'y': 296.0466553702624}, 'width': 200, 'twoColumn': False, 'customClasses': ''}, {'type': 'Splitter', 'id': 'node_16421655753058', 'name': 'Splitter', 'options': [], 'state': {}, 'interfaces': [['Input 1', {'id': 'ni_16421655753069', 'value': None}], ['Output 1', {'id': 'ni_164216557530610', 'value': None}], ['Output 2', {'id': 'ni_164216557530611', 'value': None}]], 'position': {'x': 160.08999419005372, 'y': 242.060177855096}, 'width': 200, 'twoColumn': False, 'customClasses': ''}, {'type': 'Mixer', 'id': 'node_164216557860312', 'name': 'Mixer', 'options': [], 'state': {}, 'interfaces': [['Input 1', {'id': 'ni_164216557860313', 'value': None}], ['Input 2', {'id': 'ni_164216557860314', 'value': None}], ['Output 1', {'id': 'ni_164216557860315', 'value': None}]], 'position': {'x': 428.30492654775384, 'y': 112.91965486805523}, 'width': 200, 'twoColumn': False, 'customClasses': ''}, {'type': 'Result', 'id': 'node_164216558728816', 'name': 'Result', 'options': [], 'state': {}, 'interfaces': [['Input 1', {'id': 'ni_164216558728817', 'value': None}]], 'position': {'x': 698.7229579146288, 'y': 245.71451925962754}, 'width': 200, 'twoColumn': False, 'customClasses': ''}, {'type': 'Mixer', 'id': 'node_164233731511530', 'name': 'Mixer', 'options': [], 'state': {}, 'interfaces': [['Input 1', {'id': 'ni_164233731511631', 'value': None}], ['Input 2', {'id': 'ni_164233731511632', 'value': None}], ['Output 1', {'id': 'ni_164233731511633', 'value': None}]], 'position': {'x': -112.723576361132, 'y': 375.92941903750454}, 'width': 200, 'twoColumn': False, 'customClasses': ''}, {'type': 'Splitter', 'id': 'node_164233736008643', 'name': 'Splitter', 'options': [], 'state': {}, 'interfaces': [['Input 1', {'id': 'ni_164233736008644', 'value': None}], ['Output 1', {'id': 'ni_164233736008645', 'value': None}], ['Output 2', {'id': 'ni_164233736008646', 'value': None}]], 'position': {'x': 421.64706550252777, 'y': 310.3049542472305}, 'width': 200, 'twoColumn': False, 'customClasses': ''}], 'connections': [{'id': '164216559410520', 'from': 'ni_16421654445601', 'to': 'ni_164216557860313'}, {'id': '164216559592723', 'from': 'ni_164216557530610', 'to': 'ni_164216557860314'}, {'id': '164233732351836', 'from': 'ni_164233731511633', 'to': 'ni_16421655753069'}, {'id': '164233734787542', 'from': 'ni_16421655709877', 'to': 'ni_164233731511631'}, {'id': '164233736975950', 'from': 'ni_164216557530611', 'to': 'ni_164233736008644'}, {'id': '164233738304254', 'from': 'ni_164233736008645', 'to': 'ni_164216558728817'}, {'id': '164233739219957', 'from': 'ni_164233736008646', 'to': 'ni_164233731511632'}], 'panning': {'x': 462.8955070935626, 'y': 373.0757152670363}, 'scaling': 0.4821928840637319}"
   ]
  },
  {
   "cell_type": "code",
   "execution_count": null,
   "id": "8da199fa-d5ef-4526-83b8-8a6aeafbbf57",
   "metadata": {},
   "outputs": [],
   "source": [
    "G = nx.DiGraph()"
   ]
  },
  {
   "cell_type": "code",
   "execution_count": null,
   "id": "eb52c98f-e3fb-4198-99ea-d4db58eb57e0",
   "metadata": {},
   "outputs": [],
   "source": [
    "active_blocks = {}\n",
    "block_label = {}\n",
    "interface_block_id = {}\n",
    "active_connections = []\n",
    "\n",
    "if bool(editor_state):\n",
    "    for block in editor_state['nodes']:\n",
    "        interfaces = {}\n",
    "        for interface in block['interfaces']:\n",
    "            interface_block_id[interface[1]['id']] = block['id']\n",
    "            interfaces[interface[1]['id']] = interface[1]['value']\n",
    "        active_blocks[block['id']] = {'type': block['type'], 'name': block['name'], 'interfaces': interfaces}\n",
    "        block_label[block['id']] = block['name']\n",
    "        # active_blocks[block['id']] = {'name': block['type'], 'id': block['id'], 'title': block['name'], 'interfaces': interfaces , 'interfaces_data': block['interfaces']}\n",
    "    active_connections = editor_state['connections']"
   ]
  },
  {
   "cell_type": "code",
   "execution_count": null,
   "id": "8e14b987-dca7-4bb1-88ef-b48986e0206e",
   "metadata": {},
   "outputs": [],
   "source": [
    "for block_id, block_value in active_blocks.items():\n",
    "    G.add_node(block_id, name=block_value['name']) \n",
    "\n",
    "for connection in active_connections:\n",
    "    from_node = interface_block_id[connection['from']]\n",
    "    to_node = interface_block_id[connection['to']]\n",
    "    G.add_edge(from_node, to_node, edge_id=connection['id'])"
   ]
  },
  {
   "cell_type": "code",
   "execution_count": null,
   "id": "19033e73-4f2c-461b-bea0-4496c3d7bbf8",
   "metadata": {},
   "outputs": [],
   "source": [
    "if not nx.is_directed_acyclic_graph(G): print('Cycle(s) detected. Not supported by `barfi` at the moment.')\n",
    "else: [block_label[node] for node in nx.topological_sort(G)]"
   ]
  },
  {
   "cell_type": "code",
   "execution_count": null,
   "id": "d36438e6-070a-4b82-84b8-f78feaf7cbf8",
   "metadata": {},
   "outputs": [],
   "source": []
  },
  {
   "cell_type": "code",
   "execution_count": null,
   "id": "067cb84f-cb94-4f6d-a222-33edd54ae6a1",
   "metadata": {},
   "outputs": [],
   "source": [
    "active_blocks"
   ]
  },
  {
   "cell_type": "code",
   "execution_count": null,
   "id": "ad2b2952-259d-4f55-9baf-431872233f52",
   "metadata": {},
   "outputs": [],
   "source": [
    "active_connections"
   ]
  },
  {
   "cell_type": "code",
   "execution_count": null,
   "id": "0918b4a3-538f-4c2a-b0f5-512c94a7cf33",
   "metadata": {},
   "outputs": [],
   "source": [
    "interface_block_id"
   ]
  },
  {
   "cell_type": "code",
   "execution_count": null,
   "id": "f1404f3e-5159-4379-bf2e-efcf5de42637",
   "metadata": {},
   "outputs": [],
   "source": [
    "plt.subplots(figsize=(12,6))\n",
    "nx.draw(G, with_labels=True, node_color='lightblue', node_size=500, labels = block_label)"
   ]
  },
  {
   "cell_type": "code",
   "execution_count": null,
   "id": "c138f208-41da-4535-8c1c-1c0fa0fa282b",
   "metadata": {},
   "outputs": [],
   "source": [
    "block_label"
   ]
  },
  {
   "cell_type": "code",
   "execution_count": null,
   "id": "927d801f-f6da-40a4-b4ca-bab4710676a4",
   "metadata": {},
   "outputs": [],
   "source": [
    "# To find cycles\n",
    "# nx.find_cycle(G, orientation=\"original\")\n",
    "# try: \n",
    "#     [block_label[node] for node in nx.topological_sort(G)]\n",
    "# except nx.NetworkXUnfeasible as error:\n",
    "#         print(error)"
   ]
  },
  {
   "cell_type": "code",
   "execution_count": null,
   "id": "1030787f-9a35-4857-9a30-698c12cedcc2",
   "metadata": {},
   "outputs": [],
   "source": [
    "# DG = nx.DiGraph([(interface_block_id[c['from']], interface_block_id[c['to']]) for c in active_connections])\n",
    "# nx.is_directed_acyclic_graph(DG)"
   ]
  }
 ],
 "metadata": {
  "kernelspec": {
   "display_name": "Python 3 (ipykernel)",
   "language": "python",
   "name": "python3"
  },
  "language_info": {
   "codemirror_mode": {
    "name": "ipython",
    "version": 3
   },
   "file_extension": ".py",
   "mimetype": "text/x-python",
   "name": "python",
   "nbconvert_exporter": "python",
   "pygments_lexer": "ipython3",
   "version": "3.9.5"
  }
 },
 "nbformat": 4,
 "nbformat_minor": 5
}
