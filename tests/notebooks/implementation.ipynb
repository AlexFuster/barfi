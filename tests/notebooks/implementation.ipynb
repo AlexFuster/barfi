{
 "cells": [
  {
   "cell_type": "code",
   "execution_count": 1,
   "id": "2f11a0b7-d7cd-4769-ab6f-1afb99d1783f",
   "metadata": {},
   "outputs": [],
   "source": [
    "import networkx as nx\n",
    "from matplotlib import pyplot as plt\n",
    "import copy"
   ]
  },
  {
   "cell_type": "code",
   "execution_count": 2,
   "id": "5b156d03-829a-4105-aa10-55ada2f2567c",
   "metadata": {},
   "outputs": [],
   "source": [
    "import sys\n",
    "sys.path.append('../')\n",
    "from barfi import Block"
   ]
  },
  {
   "cell_type": "code",
   "execution_count": 3,
   "id": "626855f8-29c6-47c4-a9d9-db674c63374d",
   "metadata": {},
   "outputs": [],
   "source": [
    "feed = Block(name='Feed')\n",
    "feed.add_output()\n",
    "def feed_func(self):\n",
    "    self.set_interface(name='Output 1', value=4)\n",
    "feed.add_calculate(feed_func)\n",
    "\n",
    "splitter = Block(name='Splitter')\n",
    "splitter.add_input()\n",
    "splitter.add_output()\n",
    "splitter.add_output()\n",
    "def splitter_func(self):\n",
    "    in_1 = self.get_interface(name='Input 1')\n",
    "    value=(in_1/2)\n",
    "    self.set_interface(name='Output 1', value=value)\n",
    "    self.set_interface(name='Output 2', value=value)\n",
    "splitter.add_calculate(splitter_func)\n",
    "\n",
    "mixer = Block(name='Mixer')\n",
    "mixer.add_input()\n",
    "mixer.add_input()\n",
    "mixer.add_output()\n",
    "def mixer_func(self):\n",
    "    in_1 = self.get_interface(name='Input 1')\n",
    "    in_2 = self.get_interface(name='Input 2')\n",
    "    value=(in_1 + in_2)\n",
    "    self.set_interface(name='Output 1', value=value)\n",
    "mixer.add_calculate(mixer_func)\n",
    "\n",
    "result = Block(name='Result')\n",
    "result.add_input()\n",
    "def result_func(self):\n",
    "    in_1 = self.get_interface(name='Input 1')\n",
    "    print(in_1)\n",
    "result.add_calculate(result_func)\n",
    "\n",
    "blocks = [feed, result, mixer, splitter]"
   ]
  },
  {
   "cell_type": "code",
   "execution_count": 4,
   "id": "cc36dba3-e3ef-4c35-b633-2c444d9e02c8",
   "metadata": {},
   "outputs": [],
   "source": [
    "editor_state = {'nodes': [{'type': 'Feed', 'id': 'node_16421654445600', 'name': 'Feed', 'options': [], 'state': {}, 'interfaces': [['Output 1', {'id': 'ni_16421654445601', 'value': None}]], 'position': {'x': 53.10270771798835, 'y': 103.53598351788409}, 'width': 200, 'twoColumn': False, 'customClasses': ''}, {'type': 'Feed', 'id': 'node_16421655709876', 'name': 'Feed', 'options': [], 'state': {}, 'interfaces': [['Output 1', {'id': 'ni_16421655709877', 'value': None}]], 'position': {'x': -110.96319142010879, 'y': 354.1711813273622}, 'width': 200, 'twoColumn': False, 'customClasses': ''}, {'type': 'Splitter', 'id': 'node_16421655753058', 'name': 'Splitter', 'options': [], 'state': {}, 'interfaces': [['Input 1', {'id': 'ni_16421655753069', 'value': None}], ['Output 1', {'id': 'ni_164216557530610', 'value': None}], ['Output 2', {'id': 'ni_164216557530611', 'value': None}]], 'position': {'x': 160.08999419005372, 'y': 242.060177855096}, 'width': 200, 'twoColumn': False, 'customClasses': ''}, {'type': 'Mixer', 'id': 'node_164216557860312', 'name': 'Mixer', 'options': [], 'state': {}, 'interfaces': [['Input 1', {'id': 'ni_164216557860313', 'value': None}], ['Input 2', {'id': 'ni_164216557860314', 'value': None}], ['Output 1', {'id': 'ni_164216557860315', 'value': None}]], 'position': {'x': 428.30492654775384, 'y': 112.91965486805523}, 'width': 200, 'twoColumn': False, 'customClasses': ''}, {'type': 'Result', 'id': 'node_164216558728816', 'name': 'Result', 'options': [], 'state': {}, 'interfaces': [['Input 1', {'id': 'ni_164216558728817', 'value': None}]], 'position': {'x': 426.88579992152256, 'y': 335.7225351863563}, 'width': 200, 'twoColumn': False, 'customClasses': ''}], 'connections': [{'id': '164216559410520', 'from': 'ni_16421654445601', 'to': 'ni_164216557860313'}, {'id': '164216559592723', 'from': 'ni_164216557530610', 'to': 'ni_164216557860314'}, {'id': '164216559830026', 'from': 'ni_164216557530611', 'to': 'ni_164216558728817'}, {'id': '164216560187829', 'from': 'ni_16421655709877', 'to': 'ni_16421655753069'}], 'panning': {'x': 163.41400013998373, 'y': 110.67177791961308}, 'scaling': 0.7761150375278565}"
   ]
  },
  {
   "cell_type": "code",
   "execution_count": 5,
   "id": "8da199fa-d5ef-4526-83b8-8a6aeafbbf57",
   "metadata": {},
   "outputs": [],
   "source": [
    "G = nx.DiGraph()"
   ]
  },
  {
   "cell_type": "code",
   "execution_count": 6,
   "id": "eb52c98f-e3fb-4198-99ea-d4db58eb57e0",
   "metadata": {},
   "outputs": [],
   "source": [
    "active_blocks = {}\n",
    "# change all these variable names to _map block to label, block to id, and blah blah, \n",
    "# and put all maps as a single map object dict\n",
    "block_label = {}\n",
    "interface_block_id = {}\n",
    "active_connections = []\n",
    "_map_interface_id_to_name = {}\n",
    "\n",
    "if bool(editor_state):\n",
    "    for block in editor_state['nodes']:\n",
    "        interfaces = {}\n",
    "        for interface in block['interfaces']:\n",
    "            interface_block_id[interface[1]['id']] = block['id']\n",
    "            interfaces[interface[0]] = interface[1]\n",
    "            _map_interface_id_to_name[interface[1]['id']] = interface[0]\n",
    "        parent_block = next(_b for _b in blocks if _b._type==block['type'])\n",
    "        child_block = copy.deepcopy(parent_block)\n",
    "        child_block._name = block['name']\n",
    "        child_block._interface_value = interfaces\n",
    "        active_blocks[block['id']] = {'block': child_block, 'interfaces': interfaces, 'type': block['type'], 'name': block['name']}\n",
    "        block_label[block['id']] = block['name']\n",
    "        # active_blocks[block['id']] = {'name': block['type'], 'id': block['id'], 'title': block['name'], 'interfaces': interfaces , 'interfaces_data': block['interfaces']}\n",
    "    active_connections = editor_state['connections']"
   ]
  },
  {
   "cell_type": "code",
   "execution_count": 7,
   "id": "8e14b987-dca7-4bb1-88ef-b48986e0206e",
   "metadata": {},
   "outputs": [],
   "source": [
    "for block_id, block_value in active_blocks.items():\n",
    "    G.add_node(block_id, name=block_value['name']) \n",
    "\n",
    "ni_from_to = {}\n",
    "for connection in active_connections:\n",
    "    from_node = interface_block_id[connection['from']]\n",
    "    to_node = interface_block_id[connection['to']]\n",
    "    ni_from_to[connection['from']] = connection['to']\n",
    "    G.add_edge(from_node, to_node, edge_id=connection['id'])"
   ]
  },
  {
   "cell_type": "code",
   "execution_count": 8,
   "id": "19033e73-4f2c-461b-bea0-4496c3d7bbf8",
   "metadata": {},
   "outputs": [],
   "source": [
    "if not nx.is_directed_acyclic_graph(G): print('Cycle(s) detected. Not supported by `barfi` at the moment.')\n",
    "else: \n",
    "    _compu_order = [node for node in nx.topological_sort(G)]"
   ]
  },
  {
   "cell_type": "code",
   "execution_count": 9,
   "id": "7b1b7921-da3e-43c9-a869-9937dfaad2a2",
   "metadata": {},
   "outputs": [
    {
     "data": {
      "text/plain": [
       "{'Output 1': {'id': 'ni_16421654445601', 'value': None}}"
      ]
     },
     "execution_count": 9,
     "metadata": {},
     "output_type": "execute_result"
    }
   ],
   "source": [
    "active_blocks[_compu_order[0]]['block']._interface_value"
   ]
  },
  {
   "cell_type": "code",
   "execution_count": 10,
   "id": "8ce0e67c-012e-4cad-828a-0f5d95631c7b",
   "metadata": {},
   "outputs": [],
   "source": [
    "active_blocks[_compu_order[0]]['block']._on_calculate() "
   ]
  },
  {
   "cell_type": "code",
   "execution_count": 11,
   "id": "01d99735-8b3c-484f-9186-48ad994f1683",
   "metadata": {},
   "outputs": [
    {
     "name": "stdout",
     "output_type": "stream",
     "text": [
      "{'block': <barfi.Block of type 'Mixer' at 0x122b7b400>, 'interfaces': {'Input 1': {'id': 'ni_164216557860313', 'value': 4}, 'Input 2': {'id': 'ni_164216557860314', 'value': None}, 'Output 1': {'id': 'ni_164216557860315', 'value': None}}, 'type': 'Mixer', 'name': 'Mixer'}\n"
     ]
    }
   ],
   "source": [
    "for key, value in active_blocks[_compu_order[0]]['block']._interface_value.items():\n",
    "    find_to = ni_from_to[value['id']]\n",
    "    find_to_block = interface_block_id[find_to]\n",
    "    active_blocks[find_to_block]['block'].set_interface(name=_map_interface_id_to_name[find_to], value=value['value'])\n",
    "    print(active_blocks[find_to_block])"
   ]
  },
  {
   "cell_type": "code",
   "execution_count": 12,
   "id": "2e9d7dca-32a8-451f-9a0b-52a66d4b1e30",
   "metadata": {},
   "outputs": [
    {
     "data": {
      "text/plain": [
       "{'Output 1': {'id': 'ni_16421654445601', 'value': 4}}"
      ]
     },
     "execution_count": 12,
     "metadata": {},
     "output_type": "execute_result"
    }
   ],
   "source": [
    "active_blocks[_compu_order[0]]['block']._interface_value"
   ]
  },
  {
   "cell_type": "code",
   "execution_count": 13,
   "id": "d36438e6-070a-4b82-84b8-f78feaf7cbf8",
   "metadata": {},
   "outputs": [
    {
     "name": "stdout",
     "output_type": "stream",
     "text": [
      "{'block': <barfi.Block of type 'Feed' at 0x122b7b2b0>, 'interfaces': {'Output 1': {'id': 'ni_16421654445601', 'value': 4}}, 'type': 'Feed', 'name': 'Feed'}\n"
     ]
    }
   ],
   "source": [
    "for node in nx.topological_sort(G):\n",
    "    # print((active_blocks[node]['block']))\n",
    "    print(active_blocks[node])\n",
    "    break"
   ]
  },
  {
   "cell_type": "code",
   "execution_count": 14,
   "id": "e9d48822-046b-462e-9e5a-64264e44d155",
   "metadata": {},
   "outputs": [
    {
     "name": "stdout",
     "output_type": "stream",
     "text": [
      "Feed\n",
      "Result\n",
      "Mixer\n",
      "Splitter\n"
     ]
    }
   ],
   "source": [
    "for block in blocks:\n",
    "    print(block._type)"
   ]
  },
  {
   "cell_type": "code",
   "execution_count": 15,
   "id": "067cb84f-cb94-4f6d-a222-33edd54ae6a1",
   "metadata": {},
   "outputs": [
    {
     "data": {
      "text/plain": [
       "{'node_16421654445600': {'block': <barfi.Block of type 'Feed' at 0x122b7b2b0>,\n",
       "  'interfaces': {'Output 1': {'id': 'ni_16421654445601', 'value': 4}},\n",
       "  'type': 'Feed',\n",
       "  'name': 'Feed'},\n",
       " 'node_16421655709876': {'block': <barfi.Block of type 'Feed' at 0x122b7b340>,\n",
       "  'interfaces': {'Output 1': {'id': 'ni_16421655709877', 'value': None}},\n",
       "  'type': 'Feed',\n",
       "  'name': 'Feed'},\n",
       " 'node_16421655753058': {'block': <barfi.Block of type 'Splitter' at 0x122b7b3a0>,\n",
       "  'interfaces': {'Input 1': {'id': 'ni_16421655753069', 'value': None},\n",
       "   'Output 1': {'id': 'ni_164216557530610', 'value': None},\n",
       "   'Output 2': {'id': 'ni_164216557530611', 'value': None}},\n",
       "  'type': 'Splitter',\n",
       "  'name': 'Splitter'},\n",
       " 'node_164216557860312': {'block': <barfi.Block of type 'Mixer' at 0x122b7b400>,\n",
       "  'interfaces': {'Input 1': {'id': 'ni_164216557860313', 'value': 4},\n",
       "   'Input 2': {'id': 'ni_164216557860314', 'value': None},\n",
       "   'Output 1': {'id': 'ni_164216557860315', 'value': None}},\n",
       "  'type': 'Mixer',\n",
       "  'name': 'Mixer'},\n",
       " 'node_164216558728816': {'block': <barfi.Block of type 'Result' at 0x122b7b460>,\n",
       "  'interfaces': {'Input 1': {'id': 'ni_164216558728817', 'value': None}},\n",
       "  'type': 'Result',\n",
       "  'name': 'Result'}}"
      ]
     },
     "execution_count": 15,
     "metadata": {},
     "output_type": "execute_result"
    }
   ],
   "source": [
    "active_blocks"
   ]
  },
  {
   "cell_type": "code",
   "execution_count": 16,
   "id": "ad2b2952-259d-4f55-9baf-431872233f52",
   "metadata": {},
   "outputs": [
    {
     "data": {
      "text/plain": [
       "[{'id': '164216559410520',\n",
       "  'from': 'ni_16421654445601',\n",
       "  'to': 'ni_164216557860313'},\n",
       " {'id': '164216559592723',\n",
       "  'from': 'ni_164216557530610',\n",
       "  'to': 'ni_164216557860314'},\n",
       " {'id': '164216559830026',\n",
       "  'from': 'ni_164216557530611',\n",
       "  'to': 'ni_164216558728817'},\n",
       " {'id': '164216560187829',\n",
       "  'from': 'ni_16421655709877',\n",
       "  'to': 'ni_16421655753069'}]"
      ]
     },
     "execution_count": 16,
     "metadata": {},
     "output_type": "execute_result"
    }
   ],
   "source": [
    "active_connections"
   ]
  },
  {
   "cell_type": "code",
   "execution_count": 17,
   "id": "0918b4a3-538f-4c2a-b0f5-512c94a7cf33",
   "metadata": {},
   "outputs": [
    {
     "data": {
      "text/plain": [
       "{'ni_16421654445601': 'node_16421654445600',\n",
       " 'ni_16421655709877': 'node_16421655709876',\n",
       " 'ni_16421655753069': 'node_16421655753058',\n",
       " 'ni_164216557530610': 'node_16421655753058',\n",
       " 'ni_164216557530611': 'node_16421655753058',\n",
       " 'ni_164216557860313': 'node_164216557860312',\n",
       " 'ni_164216557860314': 'node_164216557860312',\n",
       " 'ni_164216557860315': 'node_164216557860312',\n",
       " 'ni_164216558728817': 'node_164216558728816'}"
      ]
     },
     "execution_count": 17,
     "metadata": {},
     "output_type": "execute_result"
    }
   ],
   "source": [
    "interface_block_id"
   ]
  },
  {
   "cell_type": "code",
   "execution_count": 18,
   "id": "f1404f3e-5159-4379-bf2e-efcf5de42637",
   "metadata": {},
   "outputs": [
    {
     "data": {
      "image/png": "[encoded data removed]",
      "text/plain": [
       "<Figure size 864x432 with 1 Axes>"
      ]
     },
     "metadata": {},
     "output_type": "display_data"
    }
   ],
   "source": [
    "plt.subplots(figsize=(12,6))\n",
    "nx.draw(G, with_labels=True, node_color='lightblue', node_size=500, labels = block_label)"
   ]
  },
  {
   "cell_type": "code",
   "execution_count": 19,
   "id": "c138f208-41da-4535-8c1c-1c0fa0fa282b",
   "metadata": {},
   "outputs": [
    {
     "data": {
      "text/plain": [
       "{'node_16421654445600': 'Feed',\n",
       " 'node_16421655709876': 'Feed',\n",
       " 'node_16421655753058': 'Splitter',\n",
       " 'node_164216557860312': 'Mixer',\n",
       " 'node_164216558728816': 'Result'}"
      ]
     },
     "execution_count": 19,
     "metadata": {},
     "output_type": "execute_result"
    }
   ],
   "source": [
    "block_label"
   ]
  },
  {
   "cell_type": "code",
   "execution_count": 20,
   "id": "927d801f-f6da-40a4-b4ca-bab4710676a4",
   "metadata": {},
   "outputs": [],
   "source": [
    "# To find cycles\n",
    "# nx.find_cycle(G, orientation=\"original\")\n",
    "# try: \n",
    "#     [block_label[node] for node in nx.topological_sort(G)]\n",
    "# except nx.NetworkXUnfeasible as error:\n",
    "#         print(error)"
   ]
  },
  {
   "cell_type": "code",
   "execution_count": 21,
   "id": "1030787f-9a35-4857-9a30-698c12cedcc2",
   "metadata": {},
   "outputs": [],
   "source": [
    "# DG = nx.DiGraph([(interface_block_id[c['from']], interface_block_id[c['to']]) for c in active_connections])\n",
    "# nx.is_directed_acyclic_graph(DG)"
   ]
  }
 ],
 "metadata": {
  "kernelspec": {
   "display_name": "Python 3 (ipykernel)",
   "language": "python",
   "name": "python3"
  },
  "language_info": {
   "codemirror_mode": {
    "name": "ipython",
    "version": 3
   },
   "file_extension": ".py",
   "mimetype": "text/x-python",
   "name": "python",
   "nbconvert_exporter": "python",
   "pygments_lexer": "ipython3",
   "version": "3.9.5"
  }
 },
 "nbformat": 4,
 "nbformat_minor": 5
}
